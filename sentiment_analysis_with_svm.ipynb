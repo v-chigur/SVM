{
 "cells": [
  {
   "cell_type": "code",
   "execution_count": 1,
   "metadata": {},
   "outputs": [],
   "source": [
    "import pandas as pd\n",
    "import numpy as np"
   ]
  },
  {
   "cell_type": "code",
   "execution_count": 2,
   "metadata": {
    "scrolled": true
   },
   "outputs": [
    {
     "data": {
      "text/html": [
       "<div>\n",
       "<style scoped>\n",
       "    .dataframe tbody tr th:only-of-type {\n",
       "        vertical-align: middle;\n",
       "    }\n",
       "\n",
       "    .dataframe tbody tr th {\n",
       "        vertical-align: top;\n",
       "    }\n",
       "\n",
       "    .dataframe thead th {\n",
       "        text-align: right;\n",
       "    }\n",
       "</style>\n",
       "<table border=\"1\" class=\"dataframe\">\n",
       "  <thead>\n",
       "    <tr style=\"text-align: right;\">\n",
       "      <th></th>\n",
       "      <th>Unnamed: 0</th>\n",
       "      <th>text</th>\n",
       "      <th>label</th>\n",
       "    </tr>\n",
       "  </thead>\n",
       "  <tbody>\n",
       "    <tr>\n",
       "      <th>0</th>\n",
       "      <td>0</td>\n",
       "      <td>витино кингисепп дорога идеальный</td>\n",
       "      <td>Дорога с идеальным или близким к идеальному по...</td>\n",
       "    </tr>\n",
       "    <tr>\n",
       "      <th>1</th>\n",
       "      <td>1</td>\n",
       "      <td>качество покрытие отличный постоянно ремонт ул...</td>\n",
       "      <td>Дорога с идеальным или близким к идеальному по...</td>\n",
       "    </tr>\n",
       "    <tr>\n",
       "      <th>2</th>\n",
       "      <td>2</td>\n",
       "      <td>трасса зеркало видимо давно обновлять инф</td>\n",
       "      <td>Дорога с идеальным или близким к идеальному по...</td>\n",
       "    </tr>\n",
       "    <tr>\n",
       "      <th>3</th>\n",
       "      <td>3</td>\n",
       "      <td>чистить асфальт ровный выбоина</td>\n",
       "      <td>Дорога с идеальным или близким к идеальному по...</td>\n",
       "    </tr>\n",
       "    <tr>\n",
       "      <th>4</th>\n",
       "      <td>4</td>\n",
       "      <td>отличный дорога</td>\n",
       "      <td>Дорога с идеальным или близким к идеальному по...</td>\n",
       "    </tr>\n",
       "  </tbody>\n",
       "</table>\n",
       "</div>"
      ],
      "text/plain": [
       "   Unnamed: 0                                               text  \\\n",
       "0           0                  витино кингисепп дорога идеальный   \n",
       "1           1  качество покрытие отличный постоянно ремонт ул...   \n",
       "2           2          трасса зеркало видимо давно обновлять инф   \n",
       "3           3                     чистить асфальт ровный выбоина   \n",
       "4           4                                    отличный дорога   \n",
       "\n",
       "                                               label  \n",
       "0  Дорога с идеальным или близким к идеальному по...  \n",
       "1  Дорога с идеальным или близким к идеальному по...  \n",
       "2  Дорога с идеальным или близким к идеальному по...  \n",
       "3  Дорога с идеальным или близким к идеальному по...  \n",
       "4  Дорога с идеальным или близким к идеальному по...  "
      ]
     },
     "execution_count": 2,
     "metadata": {},
     "output_type": "execute_result"
    }
   ],
   "source": [
    "import pandas as pd\n",
    "old_data = pd.read_csv(\"cleaned_data.csv\")\n",
    "old_data.head()"
   ]
  },
  {
   "cell_type": "code",
   "execution_count": 3,
   "metadata": {},
   "outputs": [],
   "source": [
    "labels = old_data['label'].unique()[:-1]\n",
    "data = old_data.loc[old_data.label.isin(labels)]\n",
    "data = data[data['text'].apply(type) == str]"
   ]
  },
  {
   "cell_type": "code",
   "execution_count": 4,
   "metadata": {},
   "outputs": [],
   "source": [
    "data['label'].replace(labels[0], 1, inplace=True)\n",
    "data['label'].replace(labels[1:], 0, inplace=True)\n",
    "X_texts = data['text'].tolist()\n",
    "X_tokens = [x.split() for x in X_texts]\n",
    "y_data = data['label'].tolist()"
   ]
  },
  {
   "cell_type": "code",
   "execution_count": 5,
   "metadata": {},
   "outputs": [
    {
     "data": {
      "text/plain": [
       "0.9923495067445138"
      ]
     },
     "execution_count": 5,
     "metadata": {},
     "output_type": "execute_result"
    },
    {
     "data": {
      "image/png": "[encoded data removed]",
      "text/plain": [
       "<Figure size 432x288 with 1 Axes>"
      ]
     },
     "metadata": {
      "needs_background": "light"
     },
     "output_type": "display_data"
    }
   ],
   "source": [
    "from collections import Counter\n",
    "from matplotlib import pyplot as plt\n",
    "lens = [len(x.split()) for x in X_texts]\n",
    "len_counter = Counter(lens)\n",
    "plt.bar(len_counter.keys(), len_counter.values())\n",
    "len([l for l in lens if l < 100]) / len(lens)"
   ]
  },
  {
   "cell_type": "code",
   "execution_count": 6,
   "metadata": {},
   "outputs": [],
   "source": [
    "from gensim.models import Word2Vec\n",
    "\n",
    "nemb = 300 # размер вектора слова\n",
    "w2v_model = Word2Vec(min_count=1, window=5, vector_size=nemb, sample=6e-5, \n",
    "                     alpha=0.03, min_alpha=0.0004, negative=20, workers=6)\n",
    "w2v_model.build_vocab(X_tokens) # требует список из списков токенов"
   ]
  },
  {
   "cell_type": "code",
   "execution_count": 155,
   "metadata": {},
   "outputs": [
    {
     "data": {
      "text/plain": [
       "(1657922, 3339255)"
      ]
     },
     "execution_count": 155,
     "metadata": {},
     "output_type": "execute_result"
    }
   ],
   "source": [
    "from gensim.models import Word2Vec\n",
    "w2v_model_google = Word2Vec(min_count=1, window=5, vector_size=300, sample=6e-5, alpha=0.03, min_alpha=0.0001, negative=20, workers=8)\n",
    "w2v_model_google.build_vocab(X_tokens)\n",
    "w2v_model_google.wv.load_word2vec_format('GoogleNews-vectors-negative300.bin', binary=True)\n",
    "w2v_model_google.train(X_tokens, total_examples=w2v_model.corpus_count, epochs=15)"
   ]
  },
  {
   "cell_type": "code",
   "execution_count": 7,
   "metadata": {},
   "outputs": [
    {
     "data": {
      "text/plain": [
       "(7740528, 15583190)"
      ]
     },
     "execution_count": 7,
     "metadata": {},
     "output_type": "execute_result"
    }
   ],
   "source": [
    "w2v_model.train(X_tokens, total_examples=w2v_model.corpus_count, epochs=70)"
   ]
  },
  {
   "cell_type": "code",
   "execution_count": 8,
   "metadata": {},
   "outputs": [
    {
     "data": {
      "text/plain": [
       "[('каракл', 0.5516131520271301),\n",
       " ('шихазан', 0.5344586372375488),\n",
       " ('заезды-выезд', 0.519331693649292),\n",
       " ('вельский', 0.48651832342147827),\n",
       " ('паркет', 0.469946026802063),\n",
       " ('обочины-ехать', 0.46308261156082153),\n",
       " ('3-4км', 0.4561167359352112),\n",
       " ('расчистка', 0.45162275433540344),\n",
       " ('стремноватый', 0.4489523470401764),\n",
       " ('-30', 0.4469297230243683)]"
      ]
     },
     "execution_count": 8,
     "metadata": {},
     "output_type": "execute_result"
    }
   ],
   "source": [
    "w2v_model.wv.most_similar('плохо')"
   ]
  },
  {
   "cell_type": "code",
   "execution_count": 9,
   "metadata": {},
   "outputs": [],
   "source": [
    "from sklearn.feature_extraction.text import TfidfVectorizer\n",
    "\n",
    "# перед использованием списки слов будут объединены в одну строку\n",
    "tfidf = TfidfVectorizer(preprocessor=' '.join) \n",
    "X_data = tfidf.fit_transform(X_tokens) # требует лист из строк"
   ]
  },
  {
   "cell_type": "code",
   "execution_count": 10,
   "metadata": {},
   "outputs": [],
   "source": [
    "# построение словаря: слово -> вектор длины nemb\n",
    "embedding_matrix = np.zeros((len(tfidf.vocabulary_.items()), nemb), dtype=np.float32)\n",
    "for word, i in tfidf.vocabulary_.items():\n",
    "    if word in w2v_model.wv.index_to_key:\n",
    "        embedding_matrix[i] = w2v_model.wv[word]"
   ]
  },
  {
   "cell_type": "code",
   "execution_count": 11,
   "metadata": {},
   "outputs": [],
   "source": [
    "# вместо простого усреднения последовательности погруженных векторов\n",
    "# будем использовать усреднение с весами tf-idf \n",
    "X_data = X_data @ embedding_matrix"
   ]
  },
  {
   "cell_type": "code",
   "execution_count": 12,
   "metadata": {},
   "outputs": [],
   "source": [
    "from sklearn.model_selection import train_test_split\n",
    "X_train, X_test, y_train, y_test = train_test_split(X_data, y_data, test_size=0.1, random_state=42, shuffle=True)\n",
    "# X_val, X_test, y_val, y_test = train_test_split(X_test, y_test, test_size=0.5, shuffle=False)"
   ]
  },
  {
   "cell_type": "code",
   "execution_count": 14,
   "metadata": {},
   "outputs": [
    {
     "data": {
      "text/plain": [
       "GridSearchCV(estimator=SVC(random_state=42), n_jobs=8,\n",
       "             param_grid={'C': [0.01, 0.1, 1, 10, 12, 13, 15],\n",
       "                         'kernel': ['linear', 'poly', 'rbf']},\n",
       "             scoring='f1')"
      ]
     },
     "execution_count": 14,
     "metadata": {},
     "output_type": "execute_result"
    }
   ],
   "source": [
    "# Метод опорных векторов с подбором оптимальных гиперпараметров\n",
    "from sklearn.svm import SVC\n",
    "from sklearn.linear_model import  LogisticRegression\n",
    "from sklearn.model_selection import GridSearchCV\n",
    "import multiprocessing\n",
    "\n",
    "params = {'C': [0.01, 0.1, 1, 10, 12, 13, 15],\n",
    "          'kernel': ['linear', 'poly', 'rbf']}\n",
    "\n",
    "clf = SVC(random_state=42)\n",
    "grid_SVM = GridSearchCV(clf, params, n_jobs=8, scoring='f1')\n",
    "grid_SVM.fit(X_train, y_train)"
   ]
  },
  {
   "cell_type": "code",
   "execution_count": 15,
   "metadata": {},
   "outputs": [
    {
     "name": "stdout",
     "output_type": "stream",
     "text": [
      "              precision    recall  f1-score   support\n",
      "\n",
      "           0       0.92      0.96      0.94       784\n",
      "           1       0.80      0.68      0.74       210\n",
      "\n",
      "    accuracy                           0.90       994\n",
      "   macro avg       0.86      0.82      0.84       994\n",
      "weighted avg       0.89      0.90      0.89       994\n",
      "\n"
     ]
    },
    {
     "data": {
      "text/plain": [
       "{'C': 15, 'kernel': 'rbf'}"
      ]
     },
     "execution_count": 15,
     "metadata": {},
     "output_type": "execute_result"
    }
   ],
   "source": [
    "from sklearn.metrics import classification_report\n",
    "y_pred = grid_SVM.best_estimator_.predict(X_test)\n",
    "print(classification_report(y_test, y_pred))\n",
    "grid_SVM.best_params_"
   ]
  },
  {
   "cell_type": "code",
   "execution_count": 16,
   "metadata": {},
   "outputs": [],
   "source": [
    "import pickle\n",
    "with open(\"model_svm_74_70\", 'wb') as file:\n",
    "    pickle.dump(grid_SVM.best_estimator_, file)"
   ]
  },
  {
   "cell_type": "code",
   "execution_count": null,
   "metadata": {},
   "outputs": [],
   "source": []
  }
 ],
 "metadata": {
  "kernelspec": {
   "display_name": "Python 3",
   "language": "python",
   "name": "python3"
  },
  "language_info": {
   "codemirror_mode": {
    "name": "ipython",
    "version": 3
   },
   "file_extension": ".py",
   "mimetype": "text/x-python",
   "name": "python",
   "nbconvert_exporter": "python",
   "pygments_lexer": "ipython3",
   "version": "3.7.4"
  }
 },
 "nbformat": 4,
 "nbformat_minor": 5
}
